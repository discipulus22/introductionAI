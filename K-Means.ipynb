{
 "cells": [
  {
   "cell_type": "markdown",
   "metadata": {},
   "source": [
    "<h1>K-Means from Scratch, Tutorial 6 Introduction to AI</h1>"
   ]
  },
  {
   "cell_type": "code",
   "execution_count": 1,
   "metadata": {},
   "outputs": [],
   "source": [
    "import numpy as np\n",
    "import sklearn.datasets\n",
    "from matplotlib import pyplot as plt"
   ]
  },
  {
   "cell_type": "markdown",
   "metadata": {},
   "source": [
    "<h1> Excercise i) & ii) </h1>\n",
    "<h2>Creating 100 random Blobs with 3 Clusters </h2>\n",
    "<h2>Change centers for more difficulty. More difficulty = more iterations needed </h2>"
   ]
  },
  {
   "cell_type": "code",
   "execution_count": 2,
   "metadata": {},
   "outputs": [],
   "source": [
    "x, y = sklearn.datasets.make_blobs(n_samples=100, n_features=2, centers=3, random_state=3)"
   ]
  },
  {
   "cell_type": "markdown",
   "metadata": {},
   "source": [
    "<h2>Functions needed for K-Means</h2>"
   ]
  },
  {
   "cell_type": "code",
   "execution_count": 3,
   "metadata": {},
   "outputs": [],
   "source": [
    "# Calculates Distance between two Points\n",
    "def euclidean(point, data):\n",
    "    return np.sqrt(np.sum((point - data)**2))\n",
    "\n",
    "# Classifying each point by comparing distance to each centroid\n",
    "def classificate(point):\n",
    "    distances = []\n",
    "    classification = 0\n",
    "    #Calculating distance to each Centroid\n",
    "    for i in range(len(centroids)):\n",
    "        distances.append(euclidean(point, centroids[i]))\n",
    "    if(distances[1] == min(distances)):\n",
    "        classification = 1\n",
    "    elif (distances[2] == min(distances)): \n",
    "        classification = 2\n",
    "    #returning centroid with lowest distance to point\n",
    "    return classification\n",
    "\n",
    "\n",
    "# Updates Centroids, for each Classification we callculate the mean of of all Points with the Classification \n",
    "# and assign it to the centroid\n",
    "def updateCentroids():\n",
    "    for i in range(len(centroids)):\n",
    "        totalx = 0\n",
    "        totaly = 0\n",
    "        counter = 0\n",
    "        for e in range(len(x)):\n",
    "            if classifications[e] == i:\n",
    "                totalx += x[e][0]\n",
    "                totaly += x[e][1]\n",
    "                counter += 1\n",
    "        new_x = totalx / counter\n",
    "        new_y = totaly / counter\n",
    "        centroids[i][0] = new_x\n",
    "        centroids[i][1] = new_y\n",
    "        \n",
    "        \n",
    "        \n",
    "\n",
    "        \n",
    "    \n",
    "    "
   ]
  },
  {
   "cell_type": "markdown",
   "metadata": {},
   "source": [
    "<h2>Plotting starting Dataset and Centroids</h2>"
   ]
  },
  {
   "cell_type": "code",
   "execution_count": 4,
   "metadata": {},
   "outputs": [
    {
     "data": {
      "text/plain": [
       "Text(0.5, 1.0, 'KMeans Example')"
      ]
     },
     "execution_count": 4,
     "metadata": {},
     "output_type": "execute_result"
    },
    {
     "data": {
      "image/png": "[encoded data removed]",
      "text/plain": [
       "<Figure size 432x288 with 1 Axes>"
      ]
     },
     "metadata": {
      "needs_background": "light"
     },
     "output_type": "display_data"
    }
   ],
   "source": [
    "#Plotting the Dataset with starting centroids\n",
    "centroids = [[3, 0],[-7.5, 8], [7.5, 5]]\n",
    "plt.scatter(x[:, 0], x[:, 1])\n",
    "for i in range(len(centroids)):\n",
    "    plt.scatter(centroids[i][0], centroids[i][1], c= 'r', s=150)\n",
    "plt.ylabel(\"y\")\n",
    "plt.xlabel(\"x\")\n",
    "plt.title(\"KMeans Example\")\n",
    "\n"
   ]
  },
  {
   "cell_type": "markdown",
   "metadata": {},
   "source": [
    "<h2>Calculating Classification for each Datapoint</h2>"
   ]
  },
  {
   "cell_type": "markdown",
   "metadata": {},
   "source": [
    "<p> In Order to classify each Datapoint to one of the centroids we calculate the euclidian distance to each centroid for each datapoint. We classify each Point to the nearest Centroid.</p>"
   ]
  },
  {
   "cell_type": "code",
   "execution_count": 5,
   "metadata": {},
   "outputs": [
    {
     "data": {
      "text/plain": [
       "Text(0.5, 1.0, 'KMeans Example')"
      ]
     },
     "execution_count": 5,
     "metadata": {},
     "output_type": "execute_result"
    },
    {
     "data": {
      "image/png": "[encoded data removed]",
      "text/plain": [
       "<Figure size 432x288 with 1 Axes>"
      ]
     },
     "metadata": {
      "needs_background": "light"
     },
     "output_type": "display_data"
    }
   ],
   "source": [
    "\n",
    "classifications = []\n",
    "\n",
    "# Classifying each Point and saving all Classifications in Array\n",
    "for i in range(len(x)):\n",
    "    classifications.append(classificate(x[i]))\n",
    "    \n",
    "#Plotting Scatterplot with Centroids\n",
    "for e in range(len(classifications)):\n",
    "    if classifications[e]== 0:\n",
    "        plt.scatter(x[e,0], x[e,1], c='blue')\n",
    "    elif classifications[e] == 1:\n",
    "        plt.scatter(x[e,0], x[e,1], c='orange')\n",
    "    else:\n",
    "        plt.scatter(x[e,0], x[e,1], c='green')\n",
    "\n",
    "#Plotting current Centroids\n",
    "for i in range(len(centroids)):\n",
    "    plt.scatter(centroids[i][0], centroids[i][1],s=150)\n",
    "plt.ylabel(\"y\")\n",
    "plt.xlabel(\"x\")\n",
    "plt.title(\"KMeans Example\")\n",
    "\n",
    "\n",
    "\n",
    "\n",
    "                   \n"
   ]
  },
  {
   "cell_type": "markdown",
   "metadata": {},
   "source": [
    "<h1> First Iteration </h1>\n",
    "<h2> Updating Centroids and redoing the classifications.</h2>"
   ]
  },
  {
   "cell_type": "markdown",
   "metadata": {},
   "source": [
    "<p> In order to improve the results we have to update the centroids. We assign the average of all points with the same classification as their new centroid </p>"
   ]
  },
  {
   "cell_type": "code",
   "execution_count": 6,
   "metadata": {
    "scrolled": true
   },
   "outputs": [
    {
     "data": {
      "text/plain": [
       "Text(0.5, 1.0, 'KMeans Example')"
      ]
     },
     "execution_count": 6,
     "metadata": {},
     "output_type": "execute_result"
    },
    {
     "data": {
      "image/png": "[encoded data removed]",
      "text/plain": [
       "<Figure size 432x288 with 1 Axes>"
      ]
     },
     "metadata": {
      "needs_background": "light"
     },
     "output_type": "display_data"
    }
   ],
   "source": [
    "updateCentroids()\n",
    "# Classifying each Point and saving all Classifications in Array\n",
    "classifications = []\n",
    "for i in range(len(x)):\n",
    "    classifications.append(classificate(x[i]))\n",
    "    \n",
    "#Plotting Scatterplot with Centroids\n",
    "for e in range(len(x)):\n",
    "    if classifications[e]== 0:\n",
    "        plt.scatter(x[e,0], x[e,1], c='blue')\n",
    "    elif classifications[e] == 1:\n",
    "        plt.scatter(x[e,0], x[e,1], c='orange')\n",
    "    else:\n",
    "        plt.scatter(x[e,0], x[e,1], c='green')\n",
    "\n",
    "#Plotting current Centroids\n",
    "for i in range(len(centroids)):\n",
    "    plt.scatter(centroids[i][0], centroids[i][1], s=150, c='r')\n",
    "plt.ylabel(\"y\")\n",
    "plt.xlabel(\"x\")\n",
    "plt.title(\"KMeans Example\")\n"
   ]
  },
  {
   "cell_type": "markdown",
   "metadata": {},
   "source": [
    "<h1> Second Iteration </h1>\n",
    "<h2> Updating Centroids and redoing the classifications.</h2>"
   ]
  },
  {
   "cell_type": "markdown",
   "metadata": {},
   "source": [
    "<p> In order to improve the results we have to update the centroids. We assign the average of all points with the same classification as their new centroid </p>"
   ]
  },
  {
   "cell_type": "code",
   "execution_count": 7,
   "metadata": {},
   "outputs": [
    {
     "data": {
      "text/plain": [
       "Text(0.5, 1.0, 'KMeans Example')"
      ]
     },
     "execution_count": 7,
     "metadata": {},
     "output_type": "execute_result"
    },
    {
     "data": {
      "image/png": "[encoded data removed]",
      "text/plain": [
       "<Figure size 432x288 with 1 Axes>"
      ]
     },
     "metadata": {
      "needs_background": "light"
     },
     "output_type": "display_data"
    }
   ],
   "source": [
    "updateCentroids()\n",
    "# Classifying each Point and saving all Classifications in Array\n",
    "classifications = []\n",
    "for i in range(len(x)):\n",
    "    classifications.append(classificate(x[i]))\n",
    "    \n",
    "#Plotting Scatterplot with Centroids\n",
    "for e in range(len(x)):\n",
    "    if classifications[e]== 0:\n",
    "        plt.scatter(x[e,0], x[e,1], c='blue')\n",
    "    elif classifications[e] == 1:\n",
    "        plt.scatter(x[e,0], x[e,1], c='orange')\n",
    "    else:\n",
    "        plt.scatter(x[e,0], x[e,1], c='green')\n",
    "\n",
    "#Plotting current Centroids\n",
    "for i in range(len(centroids)):\n",
    "    plt.scatter(centroids[i][0], centroids[i][1], s=150, c='r')\n",
    "plt.ylabel(\"y\")\n",
    "plt.xlabel(\"x\")\n",
    "plt.title(\"KMeans Example\")\n"
   ]
  },
  {
   "cell_type": "markdown",
   "metadata": {},
   "source": [
    "<h1> Third Iteration </h1>\n",
    "<h2> Updating Centroids and redoing the classifications.</h2>"
   ]
  },
  {
   "cell_type": "code",
   "execution_count": 8,
   "metadata": {},
   "outputs": [
    {
     "data": {
      "text/plain": [
       "Text(0.5, 1.0, 'KMeans Example')"
      ]
     },
     "execution_count": 8,
     "metadata": {},
     "output_type": "execute_result"
    },
    {
     "data": {
      "image/png": "[encoded data removed]",
      "text/plain": [
       "<Figure size 432x288 with 1 Axes>"
      ]
     },
     "metadata": {
      "needs_background": "light"
     },
     "output_type": "display_data"
    }
   ],
   "source": [
    "updateCentroids()\n",
    "# Classifying each Point and saving all Classifications in Array\n",
    "classifications = []\n",
    "for i in range(len(x)):\n",
    "    classifications.append(classificate(x[i]))\n",
    "    \n",
    "#Plotting Scatterplot with Centroids\n",
    "for e in range(len(x)):\n",
    "    if classifications[e]== 0:\n",
    "        plt.scatter(x[e,0], x[e,1], c='blue')\n",
    "    elif classifications[e] == 1:\n",
    "        plt.scatter(x[e,0], x[e,1], c='orange')\n",
    "    else:\n",
    "        plt.scatter(x[e,0], x[e,1], c='green')\n",
    "\n",
    "#Plotting current Centroids\n",
    "for i in range(len(centroids)):\n",
    "    plt.scatter(centroids[i][0], centroids[i][1], s=150, c='r')\n",
    "plt.ylabel(\"y\")\n",
    "plt.xlabel(\"x\")\n",
    "plt.title(\"KMeans Example\")\n"
   ]
  },
  {
   "cell_type": "code",
   "execution_count": null,
   "metadata": {},
   "outputs": [],
   "source": []
  }
 ],
 "metadata": {
  "kernelspec": {
   "display_name": "Python 3",
   "language": "python",
   "name": "python3"
  },
  "language_info": {
   "codemirror_mode": {
    "name": "ipython",
    "version": 3
   },
   "file_extension": ".py",
   "mimetype": "text/x-python",
   "name": "python",
   "nbconvert_exporter": "python",
   "pygments_lexer": "ipython3",
   "version": "3.8.8"
  }
 },
 "nbformat": 4,
 "nbformat_minor": 4
}
