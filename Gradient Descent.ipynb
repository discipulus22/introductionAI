{
 "cells": [
  {
   "cell_type": "markdown",
   "metadata": {},
   "source": [
    "<h1> Gradient Descent from Scratch, Tutorial 2, Introduction to AI </h1>\n",
    "<h2> Gradient Descent is used to solve different optimazation problems in machine learning.</h2>\n",
    "<h3> The idea is to minimize the gradient of the loss-function. </h3>"
   ]
  },
  {
   "cell_type": "code",
   "execution_count": 1,
   "metadata": {},
   "outputs": [],
   "source": [
    "import numpy as np\n",
    "import pandas as pd\n",
    "import matplotlib.pyplot as plt"
   ]
  },
  {
   "cell_type": "markdown",
   "metadata": {},
   "source": [
    "<h2> In the excercise we are given the following Lossfunction: $ E(w) = 6*w^2 -5 $ <br> \n",
    "    This loss-function calculates the prediction error for a specific parameter:  $w$ </h2>\n",
    "    <h2> We can plot the curve of the loss-function with the following code: </h2>"
   ]
  },
  {
   "cell_type": "code",
   "execution_count": 2,
   "metadata": {},
   "outputs": [
    {
     "data": {
      "image/png": "[encoded data removed]",
      "text/plain": [
       "<Figure size 432x288 with 1 Axes>"
      ]
     },
     "metadata": {
      "needs_background": "light"
     },
     "output_type": "display_data"
    }
   ],
   "source": [
    "x_values = []\n",
    "y_values=[]\n",
    "for i in range(-25, 25):\n",
    "    x_values.append(i)\n",
    "    y_values.append( 6*(i**2)+ 3*i -5)\n",
    "plt.xlabel(\"w\")\n",
    "plt.ylabel(\"Loss of prediction\")\n",
    "plt.plot(x_values, y_values, linestyle='none', marker='o')\n",
    "plt.show()"
   ]
  },
  {
   "cell_type": "markdown",
   "metadata": {},
   "source": [
    "<h2> By looking at the plot we can already tell that the ideal Parameter $w$ must be somewhere between ~ -2 and 2.<br>\n",
    "However to calculate the ideal value for $w$ with precision we have to use the gradient descent algorithm which works like this: <br>\n",
    "</h2> \n",
    "\n",
    "<h3>  <br> <br>\n",
    "    1) Initialize a starting value for the paramameter $w$ <br> <br>\n",
    "    2) Initialize a suitable learning rate [0, 1) <br> <br>\n",
    "    3) Calculate the derivative of the error-function with respect to the parameter $w$: <br>  $E(w) = 6*w^2 -5$ -> $E´(w)= 12*w+3$<br> <br>\n",
    "    4) Insert current value of $w$  and calculate the derivative <br> <br>\n",
    "    5) Calculate the step size -> $w$ * learning rate <br> <br>\n",
    "    6) Increase or decrease $w$ by step size depending on if the derivative is positive or negative <br> <br>\n",
    "    7) Repeat process till derivative of the loss-function converge to zero or max_iterations have been reached <br> <br>\n",
    "    </h3>"
   ]
  },
  {
   "cell_type": "code",
   "execution_count": 4,
   "metadata": {},
   "outputs": [
    {
     "name": "stdout",
     "output_type": "stream",
     "text": [
      "Learning Rate, recommended -> 0.1: 0.1\n",
      "Enter Starting Parameter: 10\n",
      "Enter max iterations: 20\n",
      "Optimal Parameter at: -0.25\n"
     ]
    },
    {
     "data": {
      "image/png": "[encoded data removed]",
      "text/plain": [
       "<Figure size 432x288 with 1 Axes>"
      ]
     },
     "metadata": {
      "needs_background": "light"
     },
     "output_type": "display_data"
    },
    {
     "name": "stdout",
     "output_type": "stream",
     "text": [
      "Print data history? [yes] = y [no] = n:     y\n",
      "****************DATA HISTORY**************** \n",
      " \n",
      "\n",
      "Parameter history: [10.0, -2.3, 0.16, -0.332, -0.234, -0.253, -0.249, -0.25, -0.25, -0.25, -0.25, -0.25, -0.25, -0.25, -0.25, -0.25, -0.25, -0.25, -0.25, -0.25]\n",
      "\n",
      "Loss History: [123.0, -24.6, 4.92, -0.984, 0.197, -0.039, 0.008, -0.002, 0.0, -0.0, 0.0, -0.0, 0.0, -0.0, 0.0, -0.0, 0.0, -0.0, 0.0, -0.0]\n",
      "\n",
      "Step-Size History: [12.3, -2.46, 0.492, -0.098, 0.02, -0.004, 0.001, -0.0, 0.0, -0.0, 0.0, -0.0, 0.0, -0.0, 0.0, -0.0, 0.0, -0.0, 0.0, -0.0]\n",
      "\n"
     ]
    }
   ],
   "source": [
    "#Aufgabe 10 Nr 4\n",
    "\n",
    "#Arrays to save parameters and result history\n",
    "parameter_history = []\n",
    "slope_history = []\n",
    "step_size_history = []\n",
    "learning_rate = 0\n",
    "\n",
    "\n",
    "#calculates the current stepsize, if big error = big step size, if small error = small step size\n",
    "def calc_Stepsize(slope, learning_rate):\n",
    "    step_size_history.append(round(slope*learning_rate,3))\n",
    "    return slope * learning_rate\n",
    "    \n",
    "\n",
    "def gradient_descent():\n",
    "    learning_rate = float(input(\"Learning Rate, recommended -> 0.1: \"))\n",
    "    w =  float (input(\"Enter Starting Parameter: \"))\n",
    "    max_iterations = int(input(\"Enter max iterations: \"))\n",
    "    for i in range(max_iterations):\n",
    "        loss_function = 12*w+3\n",
    "        slope = loss_function \n",
    "        slope_history.append(round(loss_function,3))\n",
    "        parameter_history.append(round(w,3))\n",
    "        w = w - calc_Stepsize(slope, learning_rate)\n",
    "    print(\"Optimal Parameter at: \" + str(round(w,3)))\n",
    "    plot_loss_history()\n",
    "    print_history = input(\"Print data history? [yes] = y [no] = n:     \")\n",
    "    if((print_history.lower())=='y'):\n",
    "        print_data_history()\n",
    "    \n",
    "def print_data_history():\n",
    "    print(\"****************DATA HISTORY**************** \\n \\n\")\n",
    "    print(\"Parameter history: \" + str(parameter_history) +\"\\n\")\n",
    "    print(\"Loss History: \" +  str(slope_history)+\"\\n\")\n",
    "    print(\"Step-Size History: \" + str(step_size_history) + \"\\n\")\n",
    "\n",
    "\n",
    "def plot_loss_history():\n",
    "    fig, ax = plt.subplots()\n",
    "    ax.scatter(range(0, len(parameter_history)), parameter_history)\n",
    "    plt.axhline(y=-0.25, color='r', linestyle='-')\n",
    "    plt.title(\"Parameter history with Learning rate of:  \" + str(learning_rate))\n",
    "    plt.ylabel(\"Parameter w\")\n",
    "    plt.xlabel(\"Iteration\")\n",
    "    plt.show()\n",
    "\n",
    "gradient_descent()"
   ]
  },
  {
   "cell_type": "markdown",
   "metadata": {},
   "source": [
    "<h3> The algorithmn states that the prediction loss is minimal at -0.25 for $w$.<br> <br> Looking at the plot you can see how the parameter is leveling itself off, closer to -0.25 by each iterations. <br> \n",
    "Picking a suitable learning rate is really import since a learning rate which is too high will lead to an overshoot of the parameter. A learning rate of $0.2$ would already be too high, which gets proven by the following plot:</h3>"
   ]
  },
  {
   "cell_type": "code",
   "execution_count": 5,
   "metadata": {},
   "outputs": [
    {
     "name": "stdout",
     "output_type": "stream",
     "text": [
      "Optimal Parameter at: 93.758\n"
     ]
    },
    {
     "data": {
      "image/png": "[encoded data removed]",
      "text/plain": [
       "<Figure size 432x288 with 1 Axes>"
      ]
     },
     "metadata": {
      "needs_background": "light"
     },
     "output_type": "display_data"
    },
    {
     "name": "stdout",
     "output_type": "stream",
     "text": [
      "Print data history? [yes] = y [no] = n:     y\n",
      "****************DATA HISTORY**************** \n",
      " \n",
      "\n",
      "Parameter history: [3, -4.8, 6.12, -9.168, 12.235, -17.729, 24.221, -34.509, 47.713, -67.398]\n",
      "\n",
      "Loss History: [39, -54.6, 76.44, -107.016, 149.822, -209.751, 293.652, -411.113, 575.558, -805.781]\n",
      "\n",
      "Step-Size History: [7.8, -10.92, 15.288, -21.403, 29.964, -41.95, 58.73, -82.223, 115.112, -161.156]\n",
      "\n"
     ]
    }
   ],
   "source": [
    "#Aufgabe 10 Nr 4\n",
    "\n",
    "#Arrays to save parameters and result history\n",
    "parameter_history = []\n",
    "slope_history = []\n",
    "step_size_history = []\n",
    "\n",
    "learning_rate = 0.2\n",
    "\n",
    "\n",
    "\n",
    "#calculates the current stepsize, if big error = big step size, if small error = small step size\n",
    "def calc_Stepsize(slope, learning_rate):\n",
    "    step_size_history.append(round(slope*learning_rate,3))\n",
    "    return slope * learning_rate\n",
    "    \n",
    "\n",
    "def gradient_descent():\n",
    "    w =  3\n",
    "    max_iterations = 10\n",
    "    for i in range(max_iterations):\n",
    "        loss_function = 12*w+3\n",
    "        slope = loss_function \n",
    "        slope_history.append(round(loss_function,3))\n",
    "        parameter_history.append(round(w,3))\n",
    "        w = w - calc_Stepsize(slope, learning_rate)\n",
    "    print(\"Optimal Parameter at: \" + str(round(w,3)))\n",
    "    plot_loss_history()\n",
    "    print_history = input(\"Print data history? [yes] = y [no] = n:     \")\n",
    "    if((print_history.lower())=='y'):\n",
    "        print_data_history()\n",
    "    \n",
    "def print_data_history():\n",
    "    print(\"****************DATA HISTORY**************** \\n \\n\")\n",
    "    print(\"Parameter history: \" + str(parameter_history) +\"\\n\")\n",
    "    print(\"Loss History: \" +  str(slope_history)+\"\\n\")\n",
    "    print(\"Step-Size History: \" + str(step_size_history) + \"\\n\")\n",
    "\n",
    "\n",
    "def plot_loss_history():\n",
    "    fig, ax = plt.subplots()\n",
    "    ax.scatter(range(0, len(parameter_history)), parameter_history)\n",
    "    plt.axhline(y=-0.25, color='r', linestyle='-')\n",
    "    plt.title(\"Parameter history with Learning rate of:  \" + str(learning_rate))\n",
    "    plt.ylabel(\"Parameter w\")\n",
    "    plt.xlabel(\"Iteration\")\n",
    "    plt.show()\n",
    "\n",
    "gradient_descent()"
   ]
  },
  {
   "cell_type": "code",
   "execution_count": null,
   "metadata": {},
   "outputs": [],
   "source": []
  }
 ],
 "metadata": {
  "kernelspec": {
   "display_name": "Python 3",
   "language": "python",
   "name": "python3"
  },
  "language_info": {
   "codemirror_mode": {
    "name": "ipython",
    "version": 3
   },
   "file_extension": ".py",
   "mimetype": "text/x-python",
   "name": "python",
   "nbconvert_exporter": "python",
   "pygments_lexer": "ipython3",
   "version": "3.8.8"
  }
 },
 "nbformat": 4,
 "nbformat_minor": 4
}
